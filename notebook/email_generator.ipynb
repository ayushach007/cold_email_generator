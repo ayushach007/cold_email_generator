{
 "cells": [
  {
   "cell_type": "code",
   "execution_count": 1,
   "metadata": {},
   "outputs": [
    {
     "data": {
      "text/plain": [
       "True"
      ]
     },
     "execution_count": 1,
     "metadata": {},
     "output_type": "execute_result"
    }
   ],
   "source": [
    "from dotenv import load_dotenv\n",
    "\n",
    "load_dotenv()"
   ]
  },
  {
   "cell_type": "code",
   "execution_count": 2,
   "metadata": {},
   "outputs": [],
   "source": [
    "from langchain_groq import ChatGroq\n",
    "import os\n",
    "\n",
    "llm = ChatGroq(\n",
    "    api_key=os.getenv(\"GROQ_API_KEY\"),\n",
    "    model = 'llama-3.1-70b-versatile',\n",
    "    streaming = True,\n",
    "    max_retries=2\n",
    ")"
   ]
  },
  {
   "cell_type": "code",
   "execution_count": 3,
   "metadata": {},
   "outputs": [
    {
     "name": "stderr",
     "output_type": "stream",
     "text": [
      "USER_AGENT environment variable not set, consider setting it to identify your requests.\n"
     ]
    },
    {
     "data": {
      "text/plain": [
       "'Apply for Software Engineer III, ITC\\n\\nSearch JobsSkip navigationSearch JobsNIKE, INC. JOBSContract JobsJoin The Talent CommunityLife @ NikeOverviewBenefitsBrandsOverviewJordanConverseTeamsOverviewAdministrative SupportAdvanced InnovationAir Manufacturing InnovationAviationCommunicationsCustomer ServiceDesignDigitalFacilitiesFinance & AccountingGovernment & Public AffairsHuman ResourcesInsights & AnalyticsLegalManufacturing & EngineeringMarketingMerchandisingPlanningPrivacyProcurementProduct Creation, Development & ManagementRetail CorporateRetail StoresSalesSocial & Community ImpactSports MarketingStrategic PlanningSupply Chain, Distribution & LogisticsSustainabilityTechnologyLocationsOverviewNike WHQNike New York HQEHQ: Hilversum, The NetherlandsELC: Laakdal, BelgiumGreater China HQDiversity, Equity & InclusionOverviewMilitary InclusionDisability InclusionIndigenous InclusionInternshipsTechnologySoftware Engineer III, ITCKarnataka, IndiaBecome a Part of the NIKE, Inc. TeamNIKE, Inc. does more than outfit the world’s best athletes. It is a place to explore potential, obliterate boundaries and push out the edges of what can be. The company looks for people who can grow, think, dream and create. Its culture thrives by embracing diversity and rewarding imagination. The brand seeks achievers, leaders and visionaries. At NIKE, Inc. it’s about each person bringing skills and passion to a challenging and constantly evolving game.NIKE is a technology company. From our flagship website and five-star mobile apps to developing products, managing big data and providing leading edge engineering and systems support, our teams at NIKE Global Technology exist to revolutionize the future at the confluence of tech and sport. We invest and develop advances in technology and employ the most creative people in the world, and then give them the support to constantly innovate, iterate and serve consumers more directly and personally.\\xa0 Our teams are innovative, diverse, multidisciplinary and collaborative, taking technology into the future and bringing the world with it.WHO YOU’LL WORK WITHThis role is part of the Nike’s Customer Data Platform within Marketing Technology. This team works on a variety of data points across Geos from Nike’ experiences, Data Science Models, Transaction Data, Permissions etc which are stitched together to create a rich customer overview that provides the marketers a buffet of options to choose for a marketing activity or build a insight. This team is powered by Data Engineering, Customer Data platform software service and many home grown tools based on cutting edge technologies.WHO WE ARE LOOKING FORWe are looking for a Software engineer, to be a part of Nike’s Marketing Technology organization. This position will play a critical role, in developing Nike’s Customer Data platform, which supports and promotes our products and provides a unique user experience to all our customers in166 countries globally. We are looking for someone to have a strong Marketing Automations skills and analytical background with a focus of delivering an omnichannel consumer experience through data driven marketing.We are looking for a candidate with a strong 5-8 years of experience on working on marketing Automation and reporting automation and should demonstrate below skills:5-8 years of technology related experience required.5+ years of hands-on experience in software engineering developing full stack software solutions.Marketing technology experience.Experience with various Adobe toolset in the marketing space– in particular Adobe.Experience Platform (AEP), Adobe Journey Optimizer (AJO), Customer Journey Analytics(CJA).Handson Experience on building marketing use cases using AJO and Segments.Experience in building customized marketing reporting solutions – Titan,Bigpanda,Splunk.Experience on Python or Java, Sql, Data Engineering, experience with the following tools or similar: Airflow, EMR, Hive, Spark, or similar.Demonstrated strength in data modeling, ETL development, and data streaming.Knowledge of data management fundamentals and data storage principles.Experience in microservices architecture, domain driven design, and RESTful API’s.Hands-on experience working in a distributed/cloud-based environment with high transaction volumes.Familiarity with the challenge of moving large files across a geographically disperse network. Knowledge of different accelerated transfer methods and technologies.Experience with implementing CI/CD and leading teams with DevOps responsibilities of deploying and supporting the software in production.WHAT YOU’LL WORK ONYou will be responsible for driving, owning, and shipping all aspects of large, multi-functional efforts and feature areas. You will partner with engineering teams throughout feature development from architecture, design, implementation, and validation.Collaborating with product team members at Nike to design, develop, and deploy a highly scalable digital system and services.Communicate and collaborate with other managers, stakeholders and contractors.Build complex data pipelines for real time data, Click stream analysis and work to achieve high-quality data ingestion goals.Collaborate with upstream and downstream technical teams to develop integrations to provide a seamless flow of our marketing assets from planning to delivery.\\xa0\\xa0Contributing ideas for new features and identifying technical areas for improvement proactively.Contributing ideas for new features and identifying technical areas for improvement proactively.NIKE, Inc. is a growth company that looks for team members to grow with it. Nike offers a generous total rewards package, casual work environment, a diverse and inclusive culture, and an electric atmosphere for professional development. No matter the location, or the role, every Nike employee shares one galvanizing mission: To bring inspiration and innovation to every athlete* in the world.NIKE, Inc. is committed to employing a diverse workforce. Qualified applicants will receive consideration without regard to race, color, religion, sex, national origin, age, sexual orientation, gender identity, gender expression, veteran status, or disability.How We HireAt NIKE, Inc. we promise to provide a premium, inclusive, compelling and authentic candidate experience. Delivering on this promise means we allow you to be at your best — and to do that, you need to understand how the hiring process works. Transparency is key.\\r\\n\\r\\n* This overview explains our hiring process for corporate roles. Note there may be different hiring steps involved for non-corporate roles.Start nowBenefitsWhether it’s transportation or financial health, we continually invest in our employees to help them achieve greatness — inside and outside of work. All who work here should be able to realize their full potential.Employee Assistance ProgramHolidaysMedical PlanPaid Time Off (PTO)Product DiscountsLearn moreGIFT CARDSPROMOTIONSFIND A STORESIGN UP FOR EMAILBECOME A MEMBERNIKE JOURNALSEND US FEEDBACKGET HELPGET HELPOrder StatusShipping and DeliveryReturnsPayment OptionsGift Cards BalanceContact UsABOUT NIKEABOUT NIKENewsCareersInvestorsPurposeSustainabilityUnited States© 2024 Nike, Inc. All Rights ReservedGuidesNike AdaptNike Air MaxNike FlyleatherNike ReactSpace HippieNike AirNike FlyEaseNike Free Nike VaporflyNike Air Force 1 Nike FlyknitNike JoyrideNike ZoomXTerms of SaleTerms of UseNike Privacy PolicyYour Privacy ChoicesCA Supply Chain Act'"
      ]
     },
     "execution_count": 3,
     "metadata": {},
     "output_type": "execute_result"
    }
   ],
   "source": [
    "\n",
    "from langchain_community.document_loaders import WebBaseLoader\n",
    "\n",
    "loader = WebBaseLoader(\"https://jobs.nike.com/job/R-43863?from=job%20search%20funnel\")\n",
    "page_data = loader.load().pop().page_content\n",
    "str(page_data)"
   ]
  },
  {
   "cell_type": "code",
   "execution_count": 4,
   "metadata": {},
   "outputs": [
    {
     "data": {
      "text/plain": [
       "str"
      ]
     },
     "execution_count": 4,
     "metadata": {},
     "output_type": "execute_result"
    }
   ],
   "source": [
    "from langchain_core.prompts import PromptTemplate\n",
    "\n",
    "prompt_extract = PromptTemplate.from_template(\n",
    "    \"\"\"\n",
    "    ### SCRAPED TEXT FROM WEBSITE\n",
    "    {page_data}\n",
    "    ### INSTRUCTIONS\n",
    "    The scraped text is about the job description from a company's job posting.\n",
    "    Your job is to extract the job posting and return them in JSON format containing the following fields:\n",
    "    - role\n",
    "    - experience \n",
    "    - skills\n",
    "    - description\n",
    "    \n",
    "    Only return the valid JSON.\n",
    "    ### VALID JSON(NO PREAMBLE):\n",
    "    \"\"\"\n",
    ")\n",
    "\n",
    "chain_extract_data = prompt_extract | llm\n",
    "result = chain_extract_data.invoke(input={\"page_data\": page_data})\n",
    "type(result.content)\n"
   ]
  },
  {
   "cell_type": "code",
   "execution_count": 5,
   "metadata": {},
   "outputs": [
    {
     "data": {
      "text/plain": [
       "'```\\n{\\n    \"role\": \"Software Engineer III, ITC\",\\n    \"experience\": \"5-8 years\",\\n    \"skills\": [\\n        \"Marketing Automations\",\\n        \"Adobe toolset\",\\n        \"Adobe Experience Platform (AEP)\",\\n        \"Adobe Journey Optimizer (AJO)\",\\n        \"Customer Journey Analytics(CJA)\",\\n        \"Python or Java\",\\n        \"Sql\",\\n        \"Data Engineering\",\\n        \"Airflow\",\\n        \"EMR\",\\n        \"Hive\",\\n        \"Spark\",\\n        \"Microservices architecture\",\\n        \"Domain driven design\",\\n        \"RESTful API’s\",\\n        \"CI/CD\",\\n        \"DevOps\"\\n    ],\\n    \"description\": \"NIKE is looking for a Software engineer, to be a part of Nike’s Marketing Technology organization. This position will play a critical role, in developing Nike’s Customer Data platform, which supports and promotes our products and provides a unique user experience to all our customers in 166 countries globally.\"\\n}\\n```'"
      ]
     },
     "execution_count": 5,
     "metadata": {},
     "output_type": "execute_result"
    }
   ],
   "source": [
    "result.content"
   ]
  },
  {
   "cell_type": "code",
   "execution_count": 6,
   "metadata": {},
   "outputs": [
    {
     "data": {
      "text/plain": [
       "{'role': 'Software Engineer III, ITC',\n",
       " 'experience': '5-8 years',\n",
       " 'skills': ['Marketing Automations',\n",
       "  'Adobe toolset',\n",
       "  'Adobe Experience Platform (AEP)',\n",
       "  'Adobe Journey Optimizer (AJO)',\n",
       "  'Customer Journey Analytics(CJA)',\n",
       "  'Python or Java',\n",
       "  'Sql',\n",
       "  'Data Engineering',\n",
       "  'Airflow',\n",
       "  'EMR',\n",
       "  'Hive',\n",
       "  'Spark',\n",
       "  'Microservices architecture',\n",
       "  'Domain driven design',\n",
       "  'RESTful API’s',\n",
       "  'CI/CD',\n",
       "  'DevOps'],\n",
       " 'description': 'NIKE is looking for a Software engineer, to be a part of Nike’s Marketing Technology organization. This position will play a critical role, in developing Nike’s Customer Data platform, which supports and promotes our products and provides a unique user experience to all our customers in 166 countries globally.'}"
      ]
     },
     "execution_count": 6,
     "metadata": {},
     "output_type": "execute_result"
    }
   ],
   "source": [
    "from langchain_core.output_parsers import JsonOutputParser\n",
    "\n",
    "json_parser = JsonOutputParser()\n",
    "json_res = json_parser.parse(result.content)\n",
    "json_res"
   ]
  },
  {
   "cell_type": "code",
   "execution_count": 7,
   "metadata": {},
   "outputs": [
    {
     "data": {
      "text/html": [
       "<div>\n",
       "<style scoped>\n",
       "    .dataframe tbody tr th:only-of-type {\n",
       "        vertical-align: middle;\n",
       "    }\n",
       "\n",
       "    .dataframe tbody tr th {\n",
       "        vertical-align: top;\n",
       "    }\n",
       "\n",
       "    .dataframe thead th {\n",
       "        text-align: right;\n",
       "    }\n",
       "</style>\n",
       "<table border=\"1\" class=\"dataframe\">\n",
       "  <thead>\n",
       "    <tr style=\"text-align: right;\">\n",
       "      <th></th>\n",
       "      <th>Techstack</th>\n",
       "      <th>Links</th>\n",
       "    </tr>\n",
       "  </thead>\n",
       "  <tbody>\n",
       "    <tr>\n",
       "      <th>5</th>\n",
       "      <td>Flutter, Firebase, GraphQL</td>\n",
       "      <td>https://example.com/flutter-portfolio</td>\n",
       "    </tr>\n",
       "    <tr>\n",
       "      <th>19</th>\n",
       "      <td>DevOps, Jenkins, Docker</td>\n",
       "      <td>https://example.com/devops-portfolio</td>\n",
       "    </tr>\n",
       "    <tr>\n",
       "      <th>16</th>\n",
       "      <td>Frontend, TypeScript, Angular</td>\n",
       "      <td>https://example.com/typescript-frontend-portfolio</td>\n",
       "    </tr>\n",
       "    <tr>\n",
       "      <th>6</th>\n",
       "      <td>WordPress, PHP, MySQL</td>\n",
       "      <td>https://example.com/wordpress-portfolio</td>\n",
       "    </tr>\n",
       "    <tr>\n",
       "      <th>8</th>\n",
       "      <td>React Native, Node.js, MongoDB</td>\n",
       "      <td>https://example.com/react-native-portfolio</td>\n",
       "    </tr>\n",
       "  </tbody>\n",
       "</table>\n",
       "</div>"
      ],
      "text/plain": [
       "                         Techstack  \\\n",
       "5       Flutter, Firebase, GraphQL   \n",
       "19         DevOps, Jenkins, Docker   \n",
       "16   Frontend, TypeScript, Angular   \n",
       "6            WordPress, PHP, MySQL   \n",
       "8   React Native, Node.js, MongoDB   \n",
       "\n",
       "                                                Links  \n",
       "5               https://example.com/flutter-portfolio  \n",
       "19               https://example.com/devops-portfolio  \n",
       "16  https://example.com/typescript-frontend-portfolio  \n",
       "6             https://example.com/wordpress-portfolio  \n",
       "8          https://example.com/react-native-portfolio  "
      ]
     },
     "execution_count": 7,
     "metadata": {},
     "output_type": "execute_result"
    }
   ],
   "source": [
    "import pandas as pd\n",
    "df = pd.read_csv('../data/my_portfolio.csv')\n",
    "df.sample(5)"
   ]
  },
  {
   "cell_type": "code",
   "execution_count": 9,
   "metadata": {},
   "outputs": [],
   "source": [
    "import chromadb\n",
    "import uuid\n",
    "\n",
    "client = chromadb.PersistentClient('../vectorstore')\n",
    "collection = client.get_or_create_collection(name=\"portfolio\")\n",
    "\n",
    "if not collection.count():\n",
    "    for _, row in df.iterrows():\n",
    "        collection.add(documents=row[\"Techstack\"],\n",
    "                       metadatas={\"links\": row[\"Links\"]},\n",
    "                       ids=[str(uuid.uuid4())])"
   ]
  },
  {
   "cell_type": "code",
   "execution_count": 11,
   "metadata": {},
   "outputs": [
    {
     "data": {
      "text/plain": [
       "['Marketing Automations',\n",
       " 'Adobe toolset',\n",
       " 'Adobe Experience Platform (AEP)',\n",
       " 'Adobe Journey Optimizer (AJO)',\n",
       " 'Customer Journey Analytics(CJA)',\n",
       " 'Python or Java',\n",
       " 'Sql',\n",
       " 'Data Engineering',\n",
       " 'Airflow',\n",
       " 'EMR',\n",
       " 'Hive',\n",
       " 'Spark',\n",
       " 'Microservices architecture',\n",
       " 'Domain driven design',\n",
       " 'RESTful API’s',\n",
       " 'CI/CD',\n",
       " 'DevOps']"
      ]
     },
     "execution_count": 11,
     "metadata": {},
     "output_type": "execute_result"
    }
   ],
   "source": [
    "job = json_res\n",
    "job['skills']"
   ]
  },
  {
   "cell_type": "code",
   "execution_count": 12,
   "metadata": {},
   "outputs": [
    {
     "data": {
      "text/plain": [
       "[[{'links': 'https://example.com/ml-python-portfolio'},\n",
       "  {'links': 'https://example.com/magento-portfolio'}],\n",
       " [{'links': 'https://example.com/ios-ar-portfolio'},\n",
       "  {'links': 'https://example.com/magento-portfolio'}],\n",
       " [{'links': 'https://example.com/ios-ar-portfolio'},\n",
       "  {'links': 'https://example.com/xamarin-portfolio'}],\n",
       " [{'links': 'https://example.com/ml-python-portfolio'},\n",
       "  {'links': 'https://example.com/vue-portfolio'}],\n",
       " [{'links': 'https://example.com/flutter-portfolio'},\n",
       "  {'links': 'https://example.com/kotlin-android-portfolio'}],\n",
       " [{'links': 'https://example.com/python-portfolio'},\n",
       "  {'links': 'https://example.com/ml-python-portfolio'}],\n",
       " [{'links': 'https://example.com/magento-portfolio'},\n",
       "  {'links': 'https://example.com/wordpress-portfolio'}],\n",
       " [{'links': 'https://example.com/ml-python-portfolio'},\n",
       "  {'links': 'https://example.com/magento-portfolio'}],\n",
       " [{'links': 'https://example.com/ml-python-portfolio'},\n",
       "  {'links': 'https://example.com/ios-ar-portfolio'}],\n",
       " [{'links': 'https://example.com/devops-portfolio'},\n",
       "  {'links': 'https://example.com/ios-ar-portfolio'}],\n",
       " [{'links': 'https://example.com/java-portfolio'},\n",
       "  {'links': 'https://example.com/flutter-portfolio'}],\n",
       " [{'links': 'https://example.com/kotlin-android-portfolio'},\n",
       "  {'links': 'https://example.com/kotlin-backend-portfolio'}],\n",
       " [{'links': 'https://example.com/xamarin-portfolio'},\n",
       "  {'links': 'https://example.com/android-portfolio'}],\n",
       " [{'links': 'https://example.com/kotlin-backend-portfolio'},\n",
       "  {'links': 'https://example.com/android-portfolio'}],\n",
       " [{'links': 'https://example.com/wordpress-portfolio'},\n",
       "  {'links': 'https://example.com/magento-portfolio'}],\n",
       " [{'links': 'https://example.com/magento-portfolio'},\n",
       "  {'links': 'https://example.com/wordpress-portfolio'}],\n",
       " [{'links': 'https://example.com/devops-portfolio'},\n",
       "  {'links': 'https://example.com/ios-ar-portfolio'}]]"
      ]
     },
     "execution_count": 12,
     "metadata": {},
     "output_type": "execute_result"
    }
   ],
   "source": [
    "links = collection.query(query_texts=job['skills'], n_results=2).get('metadatas', [])\n",
    "links"
   ]
  },
  {
   "cell_type": "code",
   "execution_count": null,
   "metadata": {},
   "outputs": [],
   "source": [
    "prompt_email = PromptTemplate.from_template(\n",
    "    \"\"\"\n",
    "    ### JOB DESCRIPTION\n",
    "    {job}\n",
    "    ### INSTRUCTIONS\n",
    "    Your are a Business Development Manager at JP Morgan. JP Morgan is a AI, Data Science and Data Engineering Consulting company facilitating the seamless integration of AI and Data Science into businesses through the use of cutting-edge technologies. \n",
    "    Your Job is to write cold emails to the clients regarding the job description metioned above describing the capabilities of JP Morgan and how it can help the clients in their business.\n",
    "    Also add the most relevant links from the portfolio to the email to showcase the capabilities of JP Morgan {link_list}.\n",
    "    Remeber you are a Sujal, Business Development Manager at JP Morgan and write the email accordingly.\n",
    "    Do not provide preamble.\n",
    "    ### EMAIL(NO PREAMBLE):\n",
    "      \n",
    "    \"\"\"\n",
    ")\n",
    "\n",
    "chain_write_email = prompt_email | llm\n",
    "result_email = chain_write_email.invoke(input={\"job\": str(job), \"link_list\": links})\n"
   ]
  },
  {
   "cell_type": "code",
   "execution_count": 18,
   "metadata": {},
   "outputs": [
    {
     "name": "stdout",
     "output_type": "stream",
     "text": [
      "Subject: Elevate Your Customer Data Platform with Data Vanguard's Expertise\n",
      "\n",
      "Dear Hiring Manager at Nike,\n",
      "\n",
      "I hope this email finds you well. I came across the job description for a Software Engineer III, ITC, and I was impressed by the scope of the project. As a Business Development Manager at Data Vanguard, I believe our team can help you achieve your goals and elevate your Customer Data platform to the next level.\n",
      "\n",
      "Our company specializes in AI, Data Science, and Data Engineering Consulting, and we have extensive experience in developing and implementing cutting-edge technologies. Our expertise in Python, Java, and Data Engineering aligns perfectly with the requirements of the project. We have a proven track record of delivering scalable and secure solutions that meet the needs of global organizations.\n",
      "\n",
      "I'd like to highlight a few relevant projects from our portfolio that demonstrate our capabilities:\n",
      "\n",
      "* https://example.com/ml-python-portfolio (Machine Learning and Python expertise)\n",
      "* https://example.com/devops-portfolio (DevOps and CI/CD capabilities)\n",
      "* https://example.com/java-portfolio (Java expertise)\n",
      "\n",
      "Our team can help you develop a robust Customer Data platform that supports your marketing automation efforts and provides a unique user experience for your customers worldwide. We can assist with:\n",
      "\n",
      "* Designing and implementing a scalable data architecture using Adobe Experience Platform (AEP) and Adobe Journey Optimizer (AJO)\n",
      "* Developing microservices using RESTful APIs and Domain-Driven Design principles\n",
      "* Implementing data engineering solutions using Airflow, EMR, Hive, and Spark\n",
      "* Integrating Customer Journey Analytics (CJA) to provide actionable insights\n",
      "\n",
      "If you're interested in learning more about how Data Vanguard can help you achieve your goals, I'd be happy to schedule a call to discuss further.\n",
      "\n",
      "Best regards,\n",
      "\n",
      "Sujal\n",
      "Business Development Manager\n",
      "Data Vanguard\n"
     ]
    }
   ],
   "source": [
    "print(result_email.content)"
   ]
  }
 ],
 "metadata": {
  "kernelspec": {
   "display_name": "venv",
   "language": "python",
   "name": "python3"
  },
  "language_info": {
   "codemirror_mode": {
    "name": "ipython",
    "version": 3
   },
   "file_extension": ".py",
   "mimetype": "text/x-python",
   "name": "python",
   "nbconvert_exporter": "python",
   "pygments_lexer": "ipython3",
   "version": "3.12.4"
  }
 },
 "nbformat": 4,
 "nbformat_minor": 2
}
